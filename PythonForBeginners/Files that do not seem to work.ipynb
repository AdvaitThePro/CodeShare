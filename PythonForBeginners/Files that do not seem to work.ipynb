{
 "cells": [
  {
   "cell_type": "code",
   "execution_count": 2,
   "metadata": {},
   "outputs": [
    {
     "name": "stdout",
     "output_type": "stream",
     "text": [
      "\n",
      "Current Directory is:\n",
      "/home/advait/PythonForBeginners\n",
      "\n",
      "Full Path\n",
      "/home/advait/PythonForBeginners/new_file.txt\n",
      "\n",
      "Does that file exist? False\n",
      "\n"
     ]
    }
   ],
   "source": [
    "from pathlib import Path\n",
    "\n",
    "# What is the current directory?\n",
    "cwd = Path.cwd()\n",
    "print(\"\\nCurrent Directory is:\\n\" + str(cwd))\n",
    "\n",
    "# Create full path name \n",
    "new_file = Path.joinpath(cwd, \"new_file.txt\")\n",
    "print(\"\\nFull Path\\n\" + str(new_file))\n",
    "\n",
    "# Check If file exists\n",
    "print('\\nDoes that file exist? ' + str(new_file.exists()) + '\\n')"
   ]
  },
  {
   "cell_type": "code",
   "execution_count": 12,
   "metadata": {},
   "outputs": [
    {
     "name": "stdout",
     "output_type": "stream",
     "text": [
      "Is this a directory? True\n",
      "Is this a file? False\n",
      "\n",
      " ----Directory Contents----\n",
      "/home/advait/.cache\n",
      "/home/advait/.config\n",
      "/home/advait/.git\n",
      "/home/advait/.ipython\n",
      "/home/advait/.jupyter\n",
      "/home/advait/.landscape\n",
      "/home/advait/.local\n",
      "/home/advait/.pylint.d\n",
      "/home/advait/.vscode-server\n",
      "/home/advait/PythonForBeginners\n",
      "/home/advait/Teaching_Javier\n"
     ]
    }
   ],
   "source": [
    "from pathlib import Path\n",
    "cwd = Path.cwd()\n",
    "\n",
    "# Get the parent directory\n",
    "parent = cwd.parent\n",
    "\n",
    "# Is this a directory?\n",
    "print(\"Is this a directory? \"  + str(parent.is_dir()))\n",
    "\n",
    "# Is this a file?\n",
    "print(\"Is this a file? \" + str(parent.is_file()))\n",
    "\n",
    "# List child directories\n",
    "print(\"\\n ----Directory Contents----\")\n",
    "for child in parent.iterdir():\n",
    "    if child.is_dir():\n",
    "        print(child)"
   ]
  },
  {
   "cell_type": "code",
   "execution_count": 1,
   "metadata": {
    "tags": []
   },
   "outputs": [
    {
     "output_type": "stream",
     "name": "stdout",
     "text": "\nfile name: demo.txt\n\nfile suffix: .txt\n\nfile folder: PythonForBeginners\n\nfile size: 14\n\n"
    }
   ],
   "source": [
    "from pathlib import Path\n",
    "cwd = Path.cwd()\n",
    "\n",
    "\n",
    "demo_file = Path(Path.joinpath(cwd, 'demo.txt'))\n",
    "\n",
    "# Get the file name\n",
    "print('\\nfile name: ' + demo_file.name)\n",
    "\n",
    "# Get the extension\n",
    "print('\\nfile suffix: ' + demo_file.suffix)\n",
    "\n",
    "# Get the folder\n",
    "print('\\nfile folder: ' + demo_file.parent.name)\n",
    "\n",
    "# Get the size\n",
    "print('\\nfile size: ' + str(demo_file.stat().st_size) + '\\n')\n",
    "\n",
    "print(\"abc\")"
   ]
  }
 ],
 "metadata": {
  "kernelspec": {
   "display_name": "Python 3.8.2 64-bit",
   "language": "python",
   "name": "python_defaultSpec_1595506843411"
  },
  "language_info": {
   "codemirror_mode": {
    "name": "ipython",
    "version": 3
   },
   "file_extension": ".py",
   "mimetype": "text/x-python",
   "name": "python",
   "nbconvert_exporter": "python",
   "pygments_lexer": "ipython3",
   "version": "3.8.2"
  }
 },
 "nbformat": 4,
 "nbformat_minor": 4
}