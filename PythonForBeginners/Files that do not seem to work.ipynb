{
 "cells": [
  {
   "cell_type": "code",
   "execution_count": 2,
   "metadata": {},
   "outputs": [
    {
     "name": "stdout",
     "output_type": "stream",
     "text": [
      "\n",
      "Current Directory is:\n",
      "/home/advait/PythonForBeginners\n",
      "\n",
      "Full Path\n",
      "/home/advait/PythonForBeginners/new_file.txt\n",
      "\n",
      "Does that file exist? False\n",
      "\n"
     ]
    }
   ],
   "source": [
    "from pathlib import Path\n",
    "\n",
    "# What is the current directory?\n",
    "cwd = Path.cwd()\n",
    "print(\"\\nCurrent Directory is:\\n\" + str(cwd))\n",
    "\n",
    "# Create full path name \n",
    "new_file = Path.joinpath(cwd, \"new_file.txt\")\n",
    "print(\"\\nFull Path\\n\" + str(new_file))\n",
    "\n",
    "# Check If file exists\n",
    "print('\\nDoes that file exist? ' + str(new_file.exists()) + '\\n')"
   ]
  }
 ],
 "metadata": {
  "kernelspec": {
   "display_name": "Python 3",
   "language": "python",
   "name": "python3"
  },
  "language_info": {
   "codemirror_mode": {
    "name": "ipython",
    "version": 3
   },
   "file_extension": ".py",
   "mimetype": "text/x-python",
   "name": "python",
   "nbconvert_exporter": "python",
   "pygments_lexer": "ipython3",
   "version": "3.8.2"
  }
 },
 "nbformat": 4,
 "nbformat_minor": 4
}
